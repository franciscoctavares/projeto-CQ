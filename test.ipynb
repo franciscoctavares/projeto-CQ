{
 "cells": [
  {
   "cell_type": "markdown",
   "metadata": {},
   "source": [
    "## Importar as bibliotecas necessárias"
   ]
  },
  {
   "cell_type": "code",
   "execution_count": null,
   "metadata": {},
   "outputs": [],
   "source": [
    "from qiskit.circuit import QuantumCircuit, Parameter\n",
    "from qiskit.circuit.library import TwoLocal\n",
    "from qiskit_algorithms.optimizers import COBYLA, GradientDescent\n",
    "import numpy as np\n",
    "import matplotlib.pyplot as plt\n",
    "\n",
    "from qiskit import QuantumCircuit, QuantumRegister, ClassicalRegister, transpile\n",
    "from qiskit.circuit.library.data_preparation import Initialize\n",
    "from qiskit.visualization import plot_histogram, plot_bloch_multivector, array_to_latex\n",
    "from qiskit.result import marginal_counts\n",
    "from qiskit.quantum_info import Operator, Statevector, DensityMatrix, random_statevector, partial_trace, random_unitary\n",
    "\n",
    "from qiskit_aer import Aer, AerSimulator\n",
    "from qiskit_aer import AerSimulator\n",
    "\n",
    "from helper import get_most_likely_state, bin_state_to_grid_coordinates"
   ]
  },
  {
   "cell_type": "markdown",
   "metadata": {},
   "source": [
    "## Definir os parâmetros da grelha(tamanho e posições inicial e final)"
   ]
  },
  {
   "cell_type": "code",
   "execution_count": null,
   "metadata": {},
   "outputs": [],
   "source": [
    "sim = AerSimulator()\n",
    "\n",
    "grid_size = 4\n",
    "num_states = grid_size * grid_size\n",
    "num_qubits = int(np.ceil(np.log2(num_states)))  # número mínimo de qubits para representar todos os estados do sistema\n",
    "\n",
    "start_state = (0, 0)\n",
    "goal_state = (1, 1)\n",
    "start_state_binary = bin(start_state[0] * grid_size + start_state[1])[2:].zfill(num_qubits)\n",
    "goal_state_binary = bin(goal_state[0] * grid_size + goal_state[1])[2:].zfill(num_qubits)"
   ]
  },
  {
   "cell_type": "markdown",
   "metadata": {},
   "source": [
    "## Funções para criação do circuito e de custo(recompensa)"
   ]
  },
  {
   "cell_type": "code",
   "execution_count": 1,
   "metadata": {},
   "outputs": [
    {
     "name": "stdout",
     "output_type": "stream",
     "text": [
      "Optimized Parameters: [0.76267411 2.88821451 2.28497725 5.41247107 3.41789588 5.14176227\n",
      " 1.29468455 5.29946078]\n",
      "Optimized Cost: -100.0\n"
     ]
    }
   ],
   "source": [
    "# criação do circuito variacional parameterizado\n",
    "def create_variational_circuit(params):\n",
    "    qc = QuantumCircuit(num_qubits)\n",
    "    \n",
    "    # Rotações parameterizadas (RX, RZ) em cada qubit\n",
    "    for i in range(num_qubits):\n",
    "        qc.rx(params[i], i)\n",
    "        qc.rz(params[num_qubits + i], i)\n",
    "\n",
    "    # portas CNOT para entrelaçar alguns dos qubits(qubit n com qubit n + 1)\n",
    "    for i in range(num_qubits - 1):\n",
    "        qc.cx(i, i + 1)\n",
    "\n",
    "    return qc\n",
    "\n",
    "# Número de parâmetros do circuito\n",
    "num_params = 2 * num_qubits\n",
    "params = [Parameter(f'theta_{i}') for i in range(num_params)]\n",
    "\n",
    "# Inicialização do circuito\n",
    "variational_circuit = create_variational_circuit(params)\n",
    "variational_circuit.measure_all()\n",
    "\n",
    "# Inicialização do estado\n",
    "initial_state = [0] * (2**num_qubits)\n",
    "initial_state[int(start_state_binary, 2)] = 1\n",
    "initialize_gate = Initialize(initial_state)\n",
    "variational_circuit.append(initialize_gate, list(range(num_qubits)))\n",
    "\n",
    "# Função de recompensa simples\n",
    "def cost_function(theta_values):\n",
    "    backend = Aer.get_backend('qasm_simulator')\n",
    "    qc = variational_circuit.assign_parameters({p: v for p, v in zip(variational_circuit.parameters, theta_values)})\n",
    "    transpiled_qc = transpile(qc, backend)\n",
    "    \n",
    "    job = sim.run(qc, shots=1024)\n",
    "    result = job.result()\n",
    "    counts = result.get_counts()\n",
    "\n",
    "    #most_likely_state = get_most_likely_state(counts)\n",
    "    #row, col = bin_state_to_grid_coordinates(most_likely_state)\n",
    "\n",
    "    # toy reward function\n",
    "    reward = counts.get(goal_state_binary, 0) / 1024\n",
    "    return -reward  # minimização do simétrico da recompensa"
   ]
  },
  {
   "cell_type": "markdown",
   "metadata": {},
   "source": [
    "## Optimização do circuito"
   ]
  },
  {
   "cell_type": "code",
   "execution_count": null,
   "metadata": {},
   "outputs": [],
   "source": [
    "# Optimize the parameters using COBYLA\n",
    "optimizer = COBYLA(maxiter=100, tol=1e-3)\n",
    "#optimizer = GradientDescent(maxiter=1000, learning_rate=0.1)\n",
    "initial_params = np.random.uniform(0, 2 * np.pi, num_params)\n",
    "\n",
    "result = optimizer.minimize(\n",
    "    fun=cost_function,\n",
    "    x0=initial_params\n",
    ")\n",
    "\n",
    "# Display the optimized parameters\n",
    "optimized_params = result.x\n",
    "print(\"Optimized Parameters:\", optimized_params)\n",
    "print(\"Optimized Cost:\", result.fun)"
   ]
  },
  {
   "cell_type": "markdown",
   "metadata": {},
   "source": [
    "## Medir o estado do sistema com os parâmetros optimizados"
   ]
  },
  {
   "cell_type": "code",
   "execution_count": 2,
   "metadata": {},
   "outputs": [
    {
     "name": "stdout",
     "output_type": "stream",
     "text": [
      "Grid dimensions: 4x4\n",
      "Starting point:  (0, 0)\n",
      "Goal point:  (1, 1)\n",
      "Final point: (0,2)\n"
     ]
    }
   ],
   "source": [
    "sim = Aer.get_backend('statevector_simulator')\n",
    "\n",
    "optimized_circuit = create_variational_circuit(optimized_params)\n",
    "job = sim.run(optimized_circuit, shots=1024)\n",
    "result = job.result()\n",
    "counts = result.get_counts()\n",
    "statevector = result.get_statevector()\n",
    "\n",
    "best_state = get_most_likely_state(counts=counts)\n",
    "row, col = bin_state_to_grid_coordinates(best_state)\n",
    "print(\"Grid dimensions: %dx%d\" % (grid_size, grid_size))\n",
    "print(\"Starting point: \", start_state)\n",
    "print(\"Goal point: \", goal_state)\n",
    "print(\"Final point: (%d,%d)\" % (row, col))"
   ]
  }
 ],
 "metadata": {
  "kernelspec": {
   "display_name": "myenv",
   "language": "python",
   "name": "python3"
  },
  "language_info": {
   "codemirror_mode": {
    "name": "ipython",
    "version": 3
   },
   "file_extension": ".py",
   "mimetype": "text/x-python",
   "name": "python",
   "nbconvert_exporter": "python",
   "pygments_lexer": "ipython3",
   "version": "3.12.3"
  }
 },
 "nbformat": 4,
 "nbformat_minor": 2
}
